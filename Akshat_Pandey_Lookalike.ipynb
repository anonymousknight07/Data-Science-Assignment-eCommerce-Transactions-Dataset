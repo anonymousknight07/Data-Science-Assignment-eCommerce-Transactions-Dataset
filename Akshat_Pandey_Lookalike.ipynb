{
 "cells": [
  {
   "cell_type": "code",
   "execution_count": 1,
   "metadata": {},
   "outputs": [
    {
     "name": "stdout",
     "output_type": "stream",
     "text": [
      "  CustomerID                                         Lookalikes\n",
      "0      C0001  [(C0184, 0.9530107530794122), (C0192, 0.935088...\n",
      "1      C0002  [(C0106, 0.9321228466590178), (C0134, 0.919797...\n",
      "2      C0003  [(C0052, 0.9735448208255614), (C0076, 0.969706...\n",
      "3      C0004  [(C0165, 0.9752419725283313), (C0155, 0.941427...\n",
      "4      C0005  [(C0007, 0.9912746459372063), (C0140, 0.928471...\n"
     ]
    }
   ],
   "source": [
    "import pandas as pd\n",
    "import numpy as np\n",
    "from sklearn.preprocessing import StandardScaler\n",
    "from sklearn.metrics.pairwise import cosine_similarity\n",
    "customers = pd.read_csv('Customers.csv')\n",
    "products = pd.read_csv('Products.csv')\n",
    "transactions = pd.read_csv('Transactions.csv')\n",
    "data = pd.merge(transactions, customers, on='CustomerID', how='inner')\n",
    "data = pd.merge(data, products, on='ProductID', how='inner', suffixes=('_transaction', '_product'))\n",
    "\n",
    "# Feature engineering\n",
    "customer_features = data.groupby('CustomerID').agg({\n",
    "    'TotalValue': 'sum',  \n",
    "    'Quantity': 'sum',   \n",
    "    'TransactionID': 'count',  \n",
    "    'SignupDate': 'first', \n",
    "    'Region': 'first',      \n",
    "    'Category': lambda x: x.mode()[0], \n",
    "}).reset_index()\n",
    "\n",
    "# Convert SignupDate to days since signup (recency feature)\n",
    "customer_features['SignupDate'] = pd.to_datetime(customer_features['SignupDate'])\n",
    "customer_features['DaysSinceSignup'] = (pd.Timestamp.now() - customer_features['SignupDate']).dt.days\n",
    "\n",
    "# Drop unnecessary columns\n",
    "customer_features.drop(columns=['SignupDate'], inplace=True)\n",
    "customer_features = pd.get_dummies(customer_features, columns=['Region', 'Category'], drop_first=True)\n",
    "scaler = StandardScaler()\n",
    "scaled_features = scaler.fit_transform(customer_features.drop(columns=['CustomerID']))\n",
    "similarity_matrix = cosine_similarity(scaled_features)\n",
    "lookalike_map = {}\n",
    "\n",
    "for i in range(20):\n",
    "    customer_id = customer_features.iloc[i]['CustomerID']\n",
    "    similarity_scores = similarity_matrix[i]\n",
    "    similarity_scores[i] = -1 \n",
    "    top_3_indices = np.argsort(similarity_scores)[-3:][::-1]\n",
    "    top_3_customers = customer_features.iloc[top_3_indices]['CustomerID'].values\n",
    "    top_3_scores = similarity_scores[top_3_indices]\n",
    "    lookalike_map[customer_id] = list(zip(top_3_customers, top_3_scores))\n",
    "\n",
    "\n",
    "lookalike_df = pd.DataFrame(list(lookalike_map.items()), columns=['CustomerID', 'Lookalikes'])\n",
    "\n",
    "\n",
    "lookalike_df.to_csv('Lookalike.csv', index=False)\n",
    "\n",
    "\n",
    "print(lookalike_df.head())"
   ]
  },
  {
   "cell_type": "code",
   "execution_count": null,
   "metadata": {},
   "outputs": [],
   "source": []
  }
 ],
 "metadata": {
  "kernelspec": {
   "display_name": "Python 3",
   "language": "python",
   "name": "python3"
  },
  "language_info": {
   "codemirror_mode": {
    "name": "ipython",
    "version": 3
   },
   "file_extension": ".py",
   "mimetype": "text/x-python",
   "name": "python",
   "nbconvert_exporter": "python",
   "pygments_lexer": "ipython3",
   "version": "3.13.1"
  }
 },
 "nbformat": 4,
 "nbformat_minor": 2
}
